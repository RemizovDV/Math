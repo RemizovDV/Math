{
 "cells": [
  {
   "cell_type": "markdown",
   "metadata": {
    "collapsed": true
   },
   "source": [
    "### Ремизов Дмитрий Владимирович"
   ]
  },
  {
   "cell_type": "code",
   "execution_count": 161,
   "metadata": {},
   "outputs": [],
   "source": [
    "import numpy as np\n",
    "import matplotlib.pyplot as plt\n",
    "import scipy \n",
    "import scipy.linalg \n",
    "import warnings\n",
    "warnings.filterwarnings('ignore')"
   ]
  },
  {
   "cell_type": "code",
   "execution_count": 162,
   "metadata": {},
   "outputs": [
    {
     "name": "stdout",
     "output_type": "stream",
     "text": [
      "[ 3  5  7  9 11]\n",
      "9\n",
      "(5,)\n"
     ]
    }
   ],
   "source": [
    "a = np.array([3, 5, 7, 9, 11])\n",
    "print(a)\n",
    "print(a[3])\n",
    "print(a.shape)"
   ]
  },
  {
   "cell_type": "code",
   "execution_count": 163,
   "metadata": {},
   "outputs": [
    {
     "name": "stdout",
     "output_type": "stream",
     "text": [
      "b [ 4.5  7.5 10.5 13.5 16.5]\n",
      "c [ 8.5 10.5 12.5 14.5 16.5]\n",
      "d [13. 18. 23. 28. 33.]\n",
      "e [-4. -3. -2. -1.  0.]\n",
      "e [-4. -3. -2. -1.  0.]\n",
      "f [-4. -3. -2. -1.  0.]\n"
     ]
    }
   ],
   "source": [
    "b = a * 1.5\n",
    "print('b',b)\n",
    "c = a + 5.5\n",
    "print('c',c)\n",
    "d = c + b\n",
    "print('d',d)\n",
    "e = np.subtract(b, c)\n",
    "print('e',e)\n",
    "e=b-c\n",
    "print('e',e)\n",
    "f =e.transpose()\n",
    "print('f',f)"
   ]
  },
  {
   "cell_type": "code",
   "execution_count": 164,
   "metadata": {},
   "outputs": [
    {
     "name": "stdout",
     "output_type": "stream",
     "text": [
      "30.0\n",
      "30.0\n"
     ]
    },
    {
     "data": {
      "text/plain": [
       "((5,), (5,))"
      ]
     },
     "execution_count": 164,
     "metadata": {},
     "output_type": "execute_result"
    }
   ],
   "source": [
    "h = np.dot(e, f)\n",
    "print(h)\n",
    "h=np.dot(f,e)\n",
    "print(h)\n",
    "e.shape, f.shape"
   ]
  },
  {
   "cell_type": "markdown",
   "metadata": {},
   "source": [
    "5.2 Вычислите определитель матрицы"
   ]
  },
  {
   "cell_type": "code",
   "execution_count": 169,
   "metadata": {},
   "outputs": [
    {
     "name": "stdout",
     "output_type": "stream",
     "text": [
      "[[1 2 3]\n",
      " [4 0 6]\n",
      " [7 8 9]]\n"
     ]
    },
    {
     "data": {
      "text/plain": [
       "59.999999999999986"
      ]
     },
     "execution_count": 169,
     "metadata": {},
     "output_type": "execute_result"
    }
   ],
   "source": [
    "A = np.array([[1, 2, 3], [4, 0, 6], [7, 8, 9]])\n",
    "print(A)\n",
    "np.linalg.det(A)"
   ]
  },
  {
   "cell_type": "markdown",
   "metadata": {},
   "source": [
    "5.3 Вычисление обратной матрицы"
   ]
  },
  {
   "cell_type": "code",
   "execution_count": 170,
   "metadata": {},
   "outputs": [
    {
     "data": {
      "text/plain": [
       "array([[-0.8       ,  0.1       ,  0.2       ],\n",
       "       [ 0.1       , -0.2       ,  0.1       ],\n",
       "       [ 0.53333333,  0.1       , -0.13333333]])"
      ]
     },
     "execution_count": 170,
     "metadata": {},
     "output_type": "execute_result"
    }
   ],
   "source": [
    "np.linalg.inv(A)"
   ]
  },
  {
   "cell_type": "markdown",
   "metadata": {},
   "source": [
    "5.5 Вычислите смешанное произведение"
   ]
  },
  {
   "cell_type": "code",
   "execution_count": 171,
   "metadata": {},
   "outputs": [
    {
     "name": "stdout",
     "output_type": "stream",
     "text": [
      "228.5\n"
     ]
    }
   ],
   "source": [
    "a = np.array([1, 5, 0])\n",
    "b = np.array([2, 8, 7])\n",
    "c = np.array([7, 1.5, 3])\n",
    "print (np.inner(np.cross(a, b), c))\n"
   ]
  },
  {
   "cell_type": "markdown",
   "metadata": {
    "collapsed": true
   },
   "source": [
    "6.1 Решите линейную систему:"
   ]
  },
  {
   "cell_type": "code",
   "execution_count": 172,
   "metadata": {},
   "outputs": [
    {
     "name": "stdout",
     "output_type": "stream",
     "text": [
      "[-9.2         0.9         6.46666667]\n"
     ]
    }
   ],
   "source": [
    "A = np.array([[1, 2, 3], [4, 0, 6], [7, 8, 9]])\n",
    "B = np.array([12, 2, 1])\n",
    "x = np.linalg.solve(A, B)\n",
    "print(x)"
   ]
  },
  {
   "cell_type": "markdown",
   "metadata": {},
   "source": [
    "6.2. Найдите псевдорешение:\n",
    "\n",
    "x + 2y – z = 1\n",
    "\n",
    "3x – 4y = 7\n",
    "\n",
    "8x – 5y + 2z = 12\n",
    "\n",
    "2x – 5z = 7\n",
    "\n",
    "11x +4y – 7z = 15"
   ]
  },
  {
   "cell_type": "code",
   "execution_count": 173,
   "metadata": {},
   "outputs": [
    {
     "data": {
      "text/plain": [
       "3"
      ]
     },
     "execution_count": 173,
     "metadata": {},
     "output_type": "execute_result"
    }
   ],
   "source": [
    "A = np.array([[1, 2, -1], [3, -4, 0], [8, -5, 2], [2, 0, -5], [11, 4, -7]])\n",
    "B = np.array([1, 7, 12, 7, 15])\n",
    "np.linalg.matrix_rank(A, 0.0001)"
   ]
  },
  {
   "cell_type": "markdown",
   "metadata": {},
   "source": []
  },
  {
   "cell_type": "code",
   "execution_count": 174,
   "metadata": {},
   "outputs": [
    {
     "data": {
      "text/plain": [
       "(array([ 1.13919353, -0.90498444, -0.9009803 ]),\n",
       " array([0.71523211]),\n",
       " 3,\n",
       " array([15.2817306 ,  9.59852942,  3.65197794]))"
      ]
     },
     "execution_count": 174,
     "metadata": {},
     "output_type": "execute_result"
    }
   ],
   "source": [
    "np.linalg.lstsq(A, B)"
   ]
  },
  {
   "cell_type": "code",
   "execution_count": 175,
   "metadata": {},
   "outputs": [
    {
     "name": "stdout",
     "output_type": "stream",
     "text": [
      "[-0.76979505  0.03751835 -0.16349016 -0.21671144  0.21805317]\n",
      "0.8457139653464247\n",
      "1.7020282018815083\n",
      "1.7684739183827392\n"
     ]
    }
   ],
   "source": [
    "x = np.dot(A, [ 1.13919353, -0.90498444, -0.9009803 ]) - B\n",
    "print(x)\n",
    "print(np.linalg.norm(x))\n",
    "print(np.linalg.norm([ 1.13, -0.9, -0.9 ]))\n",
    "print(np.linalg.norm([ 1.15, -0.95, -0.95 ]))"
   ]
  },
  {
   "cell_type": "markdown",
   "metadata": {},
   "source": [
    "6.3 Сколько решений имеет линейная система:\n",
    "Если ноль – то измените вектор правой части так, чтобы система стала совместной, и решите ее. \n"
   ]
  },
  {
   "cell_type": "code",
   "execution_count": 176,
   "metadata": {},
   "outputs": [
    {
     "name": "stdout",
     "output_type": "stream",
     "text": [
      "2\n",
      "3\n"
     ]
    },
    {
     "data": {
      "text/plain": [
       "array([-2.20676382e+16,  4.41352763e+16, -2.20676382e+16])"
      ]
     },
     "execution_count": 176,
     "metadata": {},
     "output_type": "execute_result"
    }
   ],
   "source": [
    "A = np.array([[1, 2, 3], [4, 5, 6], [7, 8, 9]])\n",
    "B = np.array([2, 5, 1])\n",
    "C = np.array([[1, 2, 3, 2], [4, 5, 6, 5], [7, 8, 9, 1]])\n",
    "print(np.linalg.matrix_rank(A, 0.0001))\n",
    "print(np.linalg.matrix_rank(C, 0.0001))\n",
    "np.linalg.solve(A, B)"
   ]
  },
  {
   "cell_type": "markdown",
   "metadata": {},
   "source": [
    "Данная система не имеет решений"
   ]
  },
  {
   "cell_type": "code",
   "execution_count": 177,
   "metadata": {},
   "outputs": [
    {
     "name": "stdout",
     "output_type": "stream",
     "text": [
      "[ 0.  0. -0.]\n",
      "2\n",
      "2\n"
     ]
    }
   ],
   "source": [
    "B = np.array([0, 0, 0], float)\n",
    "print(np.linalg.solve(A, B))\n",
    "C = np.array([[1, 2, 3, 0], [4, 5, 6, 0], [7, 8, 9, 0]])\n",
    "print(np.linalg.matrix_rank(A, 0.0001))\n",
    "print(np.linalg.matrix_rank(C, 0.0001))"
   ]
  },
  {
   "cell_type": "code",
   "execution_count": 178,
   "metadata": {},
   "outputs": [
    {
     "name": "stdout",
     "output_type": "stream",
     "text": [
      "[ -6 -15 -24]\n",
      "[ 0.6 -4.2  0.6]\n",
      "[0. 0. 0.]\n"
     ]
    }
   ],
   "source": [
    "# Пусть решение х = [-1, -1, -1]\n",
    "print(np.dot(A, np.array([-1, -1, -1])))\n",
    "B = np.array([-6, -15, -24])\n",
    "x = np.linalg.solve(A, B)\n",
    "print(x)\n",
    "print(np.dot(A, x) - B)"
   ]
  },
  {
   "cell_type": "code",
   "execution_count": 179,
   "metadata": {},
   "outputs": [
    {
     "name": "stdout",
     "output_type": "stream",
     "text": [
      "[0 0 0]\n",
      "2\n",
      "2\n"
     ]
    }
   ],
   "source": [
    "print(np.dot(A, np.array([-1, -1, -1])) - B)\n",
    "C =  np.array([[1, 2, 3, 6], [4, 5, 6, 15], [7, 8, 9, 24]])\n",
    "print(np.linalg.matrix_rank(A, 0.0001))\n",
    "print(np.linalg.matrix_rank(C, 0.0001))"
   ]
  },
  {
   "cell_type": "markdown",
   "metadata": {},
   "source": [
    "Одни из решений помимо [-1, -1, -1], [ 0.6 -4.2  0.6]"
   ]
  },
  {
   "cell_type": "markdown",
   "metadata": {},
   "source": [
    "6.4 Вычислите LU-разложение матрицы:\n",
    "\n",
    "После этого придумайте вектор правых частей и решите полученную линейную систему трех уравнений с данной матрицей.\n",
    "\n"
   ]
  },
  {
   "cell_type": "code",
   "execution_count": 181,
   "metadata": {},
   "outputs": [
    {
     "data": {
      "text/plain": [
       "432.00000000000017"
      ]
     },
     "execution_count": 181,
     "metadata": {},
     "output_type": "execute_result"
    }
   ],
   "source": [
    "A = np.array([[ 1,  2,  3],\n",
    "              [ 2, 16, 21],\n",
    "              [ 4, 28, 73]])\n",
    "#Вычислим детерминант матрицы A\n",
    "np.linalg.det(A)"
   ]
  },
  {
   "cell_type": "code",
   "execution_count": 182,
   "metadata": {},
   "outputs": [
    {
     "name": "stdout",
     "output_type": "stream",
     "text": [
      "[[0. 1. 0.]\n",
      " [0. 0. 1.]\n",
      " [1. 0. 0.]]\n",
      "[[ 1.    0.    0.  ]\n",
      " [ 0.25  1.    0.  ]\n",
      " [ 0.5  -0.4   1.  ]]\n",
      "[[  4.    28.    73.  ]\n",
      " [  0.    -5.   -15.25]\n",
      " [  0.     0.   -21.6 ]]\n"
     ]
    }
   ],
   "source": [
    "\n",
    "A = np.array([[1,  2,  3], \n",
    "              [2, 16, 21],\n",
    "              [4, 28, 73]])\n",
    "P, L, U = scipy.linalg.lu(A)\n",
    "print(P)\n",
    "print(L)\n",
    "print(U)"
   ]
  },
  {
   "cell_type": "code",
   "execution_count": 183,
   "metadata": {},
   "outputs": [
    {
     "name": "stdout",
     "output_type": "stream",
     "text": [
      "[[ 4. 28. 73.]\n",
      " [ 1.  2.  3.]\n",
      " [ 2. 16. 21.]]\n",
      "[[ 4. 28. 73.]\n",
      " [ 1.  2.  3.]\n",
      " [ 2. 16. 21.]]\n",
      "[[0. 0. 0.]\n",
      " [0. 0. 0.]\n",
      " [0. 0. 0.]]\n"
     ]
    }
   ],
   "source": [
    "print(np.dot(P.T, A))\n",
    "print(np.dot(L, U))\n",
    "print(np.dot(P.T, A) - np.dot(L, U))"
   ]
  },
  {
   "cell_type": "code",
   "execution_count": 184,
   "metadata": {},
   "outputs": [
    {
     "name": "stdout",
     "output_type": "stream",
     "text": [
      "[ 8.375  -7.0625  3.25  ]\n",
      "0.0\n"
     ]
    }
   ],
   "source": [
    "#Зададим вектор B\n",
    "B = np.array([4, -28, 73])\n",
    "x = np.linalg.solve(A, B)\n",
    "print(x)\n",
    "print(np.linalg.norm(np.dot(A, x) - B))"
   ]
  },
  {
   "cell_type": "markdown",
   "metadata": {},
   "source": [
    "6.5. Найдите нормальное псевдорешение недоопределенной системы:\n",
    "\n",
    "x + 2y – z = 1\n",
    "\n",
    "8x – 5y + 2z = 12\n",
    "\n",
    "Для этого определите функцию Q(x,y,z), равную норме решения, и найдите ее минимум. \n",
    "\n"
   ]
  },
  {
   "cell_type": "markdown",
   "metadata": {},
   "source": [
    "z = x + 2y - 1\n",
    "\n",
    "y = 10x - 14"
   ]
  },
  {
   "cell_type": "code",
   "execution_count": 185,
   "metadata": {},
   "outputs": [
    {
     "data": {
      "text/plain": [
       "(array([ 1.38191882, -0.18081181,  0.0202952 ]),\n",
       " array([], dtype=float64),\n",
       " 2,\n",
       " array([9.65316119, 2.41173777]))"
      ]
     },
     "execution_count": 185,
     "metadata": {},
     "output_type": "execute_result"
    }
   ],
   "source": [
    "A = np.array([[1,  2,  -1], \n",
    "              [8, -5, 2]])\n",
    "B = np.array([1, 12])\n",
    "np.linalg.lstsq(A, B)"
   ]
  },
  {
   "cell_type": "code",
   "execution_count": 197,
   "metadata": {},
   "outputs": [
    {
     "data": {
      "image/png": "[encoded data removed]",
      "text/plain": [
       "<Figure size 432x288 with 1 Axes>"
      ]
     },
     "metadata": {
      "needs_background": "light"
     },
     "output_type": "display_data"
    }
   ],
   "source": [
    "def eq(x, y, z):\n",
    "    return (x**2 + y**2 + z**2)\n",
    "\n",
    "x = np.linspace(0.95, 1.8, 1800)\n",
    "plt.plot(x, eq(x, 10 * x - 14, 21 * x - 29))\n",
    "plt.xlabel('x')\n",
    "plt.ylabel('Q(x)')\n",
    "plt.grid(True)\n",
    "plt.ylim(-25, 125)\n",
    "plt.show()"
   ]
  },
  {
   "cell_type": "code",
   "execution_count": 198,
   "metadata": {},
   "outputs": [
    {
     "name": "stdout",
     "output_type": "stream",
     "text": [
      "Проверка: [ 1.         12.00000001]\n"
     ]
    }
   ],
   "source": [
    "print('Проверка:',np.dot(A, [ 1.38191882, -0.18081181,  0.0202952 ]))"
   ]
  },
  {
   "cell_type": "markdown",
   "metadata": {},
   "source": [
    "6.6. Найдите одно из псевдорешений вырожденной системы:\n",
    "\n",
    "x + 2y + 3z = 2\n",
    "\n",
    "4x + 5y + 6z = 5\n",
    "\n",
    "7x + 8y + 9z = 11\n",
    "\n",
    "Попробуйте также отыскать и нормальное псевдорешение.\n"
   ]
  },
  {
   "cell_type": "code",
   "execution_count": 199,
   "metadata": {},
   "outputs": [
    {
     "name": "stdout",
     "output_type": "stream",
     "text": [
      "2\n",
      "3\n"
     ]
    }
   ],
   "source": [
    "A = np.array([[1, 2, 3], \n",
    "              [4, 5, 6], \n",
    "              [7, 8, 9]])\n",
    "B = np.array([2, 5, 11])\n",
    "C =  np.array([[1, 2, 3, 2], [4, 5, 6, 5], [7, 8, 9, 11]])\n",
    "print(np.linalg.matrix_rank(A, 0.0001))\n",
    "print(np.linalg.matrix_rank(C, 0.0001))"
   ]
  },
  {
   "cell_type": "code",
   "execution_count": 200,
   "metadata": {},
   "outputs": [
    {
     "name": "stdout",
     "output_type": "stream",
     "text": [
      "[[-0.12309149  0.90453403  0.40824829]\n",
      " [-0.49236596  0.30151134 -0.81649658]\n",
      " [-0.86164044 -0.30151134  0.40824829]]\n",
      "[[-8.12403840e+00 -9.60113630e+00 -1.10782342e+01]\n",
      " [ 0.00000000e+00  9.04534034e-01  1.80906807e+00]\n",
      " [ 0.00000000e+00  0.00000000e+00 -1.11164740e-15]]\n",
      "[[1. 2. 3.]\n",
      " [4. 5. 6.]\n",
      " [7. 8. 9.]]\n"
     ]
    }
   ],
   "source": [
    "Q, R = np.linalg.qr(A)\n",
    "print(Q)\n",
    "print(R)\n",
    "print(np.dot(Q, R))"
   ]
  },
  {
   "cell_type": "code",
   "execution_count": 201,
   "metadata": {},
   "outputs": [
    {
     "data": {
      "text/plain": [
       "array([-1.21860576e+01,  8.54871729e-15])"
      ]
     },
     "execution_count": 201,
     "metadata": {},
     "output_type": "execute_result"
    }
   ],
   "source": [
    "R1 = R[:2, :2]\n",
    "R1\n",
    "B1 = np.dot(np.transpose(Q), B)[:2]\n",
    "B1"
   ]
  },
  {
   "cell_type": "code",
   "execution_count": 202,
   "metadata": {},
   "outputs": [
    {
     "name": "stdout",
     "output_type": "stream",
     "text": [
      "[1.50000000e+00 9.45096256e-15]\n",
      "[1.50000000e+00 9.45096256e-15 0.00000000e+00]\n"
     ]
    },
    {
     "data": {
      "text/plain": [
       "(1.4999999999999893, 1.2247448713915885)"
      ]
     },
     "execution_count": 202,
     "metadata": {},
     "output_type": "execute_result"
    }
   ],
   "source": [
    "X1 = np.linalg.solve(R1, B1)\n",
    "print (X1)\n",
    "X = np.append(X1, 0)\n",
    "print (X)\n",
    "np.linalg.norm(X),  np.linalg.norm(np.dot(A, X) - B)  "
   ]
  },
  {
   "cell_type": "code",
   "execution_count": 203,
   "metadata": {},
   "outputs": [
    {
     "data": {
      "text/plain": [
       "(array([ 1.25,  0.5 , -0.25]),\n",
       " array([], dtype=float64),\n",
       " 2,\n",
       " array([1.68481034e+01, 1.06836951e+00, 3.33475287e-16]))"
      ]
     },
     "execution_count": 203,
     "metadata": {},
     "output_type": "execute_result"
    }
   ],
   "source": [
    "np.linalg.lstsq(A, B) "
   ]
  },
  {
   "cell_type": "code",
   "execution_count": 204,
   "metadata": {},
   "outputs": [
    {
     "data": {
      "text/plain": [
       "(1.3693063937629153, 1.224744871391589)"
      ]
     },
     "execution_count": 204,
     "metadata": {},
     "output_type": "execute_result"
    }
   ],
   "source": [
    "X = [ 1.25,  0.5 , -0.25]\n",
    "np.linalg.norm(X),  np.linalg.norm(np.dot(A, X) - B) "
   ]
  },
  {
   "cell_type": "code",
   "execution_count": null,
   "metadata": {},
   "outputs": [],
   "source": []
  }
 ],
 "metadata": {
  "kernelspec": {
   "display_name": "Python 3",
   "language": "python",
   "name": "python3"
  },
  "language_info": {
   "codemirror_mode": {
    "name": "ipython",
    "version": 3
   },
   "file_extension": ".py",
   "mimetype": "text/x-python",
   "name": "python",
   "nbconvert_exporter": "python",
   "pygments_lexer": "ipython3",
   "version": "3.6.8"
  }
 },
 "nbformat": 4,
 "nbformat_minor": 2
}
