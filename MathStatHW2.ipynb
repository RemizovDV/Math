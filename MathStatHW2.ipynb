{
 "cells": [
  {
   "cell_type": "markdown",
   "metadata": {
    "colab_type": "text",
    "id": "G2wMw7vtsFIu"
   },
   "source": [
    "### Ремизов Дмитрий Владимирович"
   ]
  },
  {
   "cell_type": "code",
   "execution_count": 32,
   "metadata": {},
   "outputs": [],
   "source": [
    "from math import factorial\n",
    "import numpy as np"
   ]
  },
  {
   "cell_type": "code",
   "execution_count": 33,
   "metadata": {},
   "outputs": [],
   "source": [
    "def c(n, k):\n",
    "    return int(factorial(n) / (factorial(k) * factorial(n - k)))"
   ]
  },
  {
   "cell_type": "code",
   "execution_count": 34,
   "metadata": {},
   "outputs": [],
   "source": [
    "def Bernul(p,n,k):\n",
    "    return c(n,k)*(p**k)*((1-p)**(n-k))"
   ]
  },
  {
   "cell_type": "code",
   "execution_count": 35,
   "metadata": {},
   "outputs": [],
   "source": [
    "def Puasson(lambda_,m):\n",
    "    return (lambda_**m / np.math.factorial(m)) * np.exp(-lambda_)"
   ]
  },
  {
   "cell_type": "markdown",
   "metadata": {
    "colab_type": "text",
    "id": "Rc3tqLLnsFIw"
   },
   "source": [
    "**1.** Вероятность того, что стрелок попадет в мишень, выстрелив один раз, равна 0.8. Стрелок выстрелил 100 раз. Найдите вероятность того, что стрелок попадет в цель ровно 85 раз.\n"
   ]
  },
  {
   "cell_type": "markdown",
   "metadata": {},
   "source": [
    "$$P_n(X=k) = C_n^k p^k q^{n-k}$$"
   ]
  },
  {
   "cell_type": "code",
   "execution_count": 36,
   "metadata": {},
   "outputs": [],
   "source": [
    "n=100\n",
    "p=0.8\n",
    "k=85\n"
   ]
  },
  {
   "cell_type": "code",
   "execution_count": 37,
   "metadata": {},
   "outputs": [
    {
     "name": "stdout",
     "output_type": "stream",
     "text": [
      "искомая вероятность 4.806e-02\n"
     ]
    }
   ],
   "source": [
    "P=Bernul(p,n,k)\n",
    "print(f'искомая вероятность {P:.3e}')"
   ]
  },
  {
   "cell_type": "markdown",
   "metadata": {
    "colab_type": "text",
    "id": "FC9PxSnisFIx"
   },
   "source": [
    "**2.**Вероятность того, что лампочка перегорит в течение первого дня эксплуатации, равна 0.0004. В жилом комплексе после ремонта в один день включили 5000 новых лампочек. Какова вероятность, что ни одна из них не перегорит в первый день? Какова вероятность, что перегорят ровно две?\n"
   ]
  },
  {
   "cell_type": "markdown",
   "metadata": {},
   "source": [
    "$$P_m \\approx \\frac{\\lambda^m}{m!}e^{-\\lambda},$$"
   ]
  },
  {
   "cell_type": "markdown",
   "metadata": {},
   "source": [
    "где $λ = np$.\n"
   ]
  },
  {
   "cell_type": "markdown",
   "metadata": {},
   "source": [
    "Применим формулу Пуассона, зная, что  𝑚=0  и  λ=𝑛𝑝=5000⋅0.0004=2 :"
   ]
  },
  {
   "cell_type": "code",
   "execution_count": 38,
   "metadata": {},
   "outputs": [
    {
     "name": "stdout",
     "output_type": "stream",
     "text": [
      "Вероятность, что не перегорит ни одна из лампочек 0.1353\n"
     ]
    }
   ],
   "source": [
    "lambda_=5000*0.0004\n",
    "m=0\n",
    "print(f'Вероятность, что не перегорит ни одна из лампочек {Puasson(lambda_,m):.4}')"
   ]
  },
  {
   "cell_type": "code",
   "execution_count": 39,
   "metadata": {},
   "outputs": [
    {
     "name": "stdout",
     "output_type": "stream",
     "text": [
      "Вероятность, что перегорит ровно 2 лампочки 0.2707\n"
     ]
    }
   ],
   "source": [
    "lambda_=5000*0.0004\n",
    "m=2\n",
    "print(f'Вероятность, что перегорит ровно 2 лампочки {Puasson(lambda_,m):.4}')"
   ]
  },
  {
   "cell_type": "markdown",
   "metadata": {
    "colab_type": "text",
    "id": "tkBVPAfesFIz"
   },
   "source": [
    "**3.** Монету подбросили 144 раза. Какова вероятность, что орел выпадет ровно 70 раз?\n"
   ]
  },
  {
   "cell_type": "markdown",
   "metadata": {},
   "source": [
    "$$P_n(X=k) = C_n^k p^k q^{n-k}$$"
   ]
  },
  {
   "cell_type": "code",
   "execution_count": 40,
   "metadata": {},
   "outputs": [],
   "source": [
    "n=144\n",
    "p=0.5\n",
    "k=70"
   ]
  },
  {
   "cell_type": "code",
   "execution_count": 41,
   "metadata": {},
   "outputs": [
    {
     "name": "stdout",
     "output_type": "stream",
     "text": [
      "искомая вероятность 6.281e-02\n"
     ]
    }
   ],
   "source": [
    "P=Bernul(p,n,k)\n",
    "print(f'искомая вероятность {P:.3e}')"
   ]
  },
  {
   "cell_type": "markdown",
   "metadata": {},
   "source": [
    "**4.** В первом ящике находится 10 мячей, из которых 7 - белые. Во втором ящике - 11 мячей, из которых 9 белых. Из каждого ящика вытаскивают случайным образом по два мяча. Какова вероятность того, что все мячи белые? Какова вероятность того, что ровно два мяча белые? Какова вероятность того, что хотя бы один мяч белый?"
   ]
  },
  {
   "cell_type": "markdown",
   "metadata": {},
   "source": [
    "Возможные варианты  для первого события:\n",
    "\n",
    "<table border=\"3\">\n",
    "<tr><th> № </th><td>Белые 1 корзина</td><td>Черные 1 корзина</td><td>Белые 2 корзина </td><td>Черные 2 корзина</td></tr>\n",
    "<tr><th> 1 </th><td>2</td><td>0</td><td>2</td><td>0</td></tr>\n",
    "</table>"
   ]
  },
  {
   "cell_type": "code",
   "execution_count": 42,
   "metadata": {},
   "outputs": [
    {
     "name": "stdout",
     "output_type": "stream",
     "text": [
      "искомая вероятность 0.3055\n"
     ]
    }
   ],
   "source": [
    "P120=c(7,2)*c(3,0)/c(10,2)\n",
    "P220=c(9,2)*c(2,0)/c(11,2)\n",
    "\n",
    "P=P120*P220\n",
    "print(f'искомая вероятность {P:.4}')"
   ]
  },
  {
   "cell_type": "markdown",
   "metadata": {},
   "source": [
    "Возможные варианты  для второго события:\n",
    "\n",
    "<table border=\"3\">\n",
    "<tr><th> № </th><td>Белые 1 корзина</td><td>Черные 1 корзина</td><td>Белые 2 корзина </td><td>Черные 2 корзина</td></tr>\n",
    "<tr><th> 1 </th><td>1</td><td>1</td><td>1</td><td>1</td></tr>\n",
    "<tr><th> 2 </th><td>2</td><td>0</td><td>0</td><td>2</td></tr>\n",
    "<tr><th> 3 </th><td>0</td><td>2</td><td>2</td><td>0</td></tr>\n",
    "</table>"
   ]
  },
  {
   "cell_type": "code",
   "execution_count": 45,
   "metadata": {},
   "outputs": [
    {
     "name": "stdout",
     "output_type": "stream",
     "text": [
      "искомая вероятность 0.2048\n"
     ]
    }
   ],
   "source": [
    "P111=c(7,1)*c(3,1)/c(10,2)\n",
    "P211=c(9,1)*c(2,1)/c(11,2)\n",
    "P120=c(7,2)*c(3,0)/c(10,2)\n",
    "P202=c(9,0)*c(2,2)/c(11,2)\n",
    "P102=c(7,0)*c(3,2)/c(10,2)\n",
    "P220=c(9,2)*c(2,0)/c(11,2)\n",
    "P=P111*P211+P120*P202+P102*P220\n",
    "print(f'искомая вероятность {P:.4}')"
   ]
  },
  {
   "cell_type": "markdown",
   "metadata": {},
   "source": [
    "для третьего события найдем через противоположное событие:\n",
    "\n",
    "<table border=\"3\">\n",
    "<tr><th> № </th><td>Белые 1 корзина</td><td>Черные 1 корзина</td><td>Белые 2 корзина </td><td>Черные 2 корзина</td></tr>\n",
    "<tr><th> 1 </th><td>0</td><td>2</td><td>0</td><td>2</td></tr>\n",
    "</table>\n"
   ]
  },
  {
   "cell_type": "code",
   "execution_count": 44,
   "metadata": {},
   "outputs": [
    {
     "name": "stdout",
     "output_type": "stream",
     "text": [
      "искомая вероятность 0.9988\n"
     ]
    }
   ],
   "source": [
    "P102=c(7,0)*c(3,2)/c(10,2)\n",
    "P202=c(9,0)*c(2,2)/c(11,2)\n",
    "\n",
    "P=1-P102*P202\n",
    "print(f'искомая вероятность {P:.4}')"
   ]
  },
  {
   "cell_type": "code",
   "execution_count": null,
   "metadata": {},
   "outputs": [],
   "source": []
  }
 ],
 "metadata": {
  "colab": {
   "name": "Copy of Матстат - Урок 1.ipynb",
   "provenance": [],
   "version": "0.3.2"
  },
  "kernelspec": {
   "display_name": "Python 3",
   "language": "python",
   "name": "python3"
  },
  "language_info": {
   "codemirror_mode": {
    "name": "ipython",
    "version": 3
   },
   "file_extension": ".py",
   "mimetype": "text/x-python",
   "name": "python",
   "nbconvert_exporter": "python",
   "pygments_lexer": "ipython3",
   "version": "3.6.8"
  }
 },
 "nbformat": 4,
 "nbformat_minor": 1
}
