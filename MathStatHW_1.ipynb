{
 "cells": [
  {
   "cell_type": "markdown",
   "metadata": {
    "colab_type": "text",
    "id": "G2wMw7vtsFIu"
   },
   "source": [
    "### Ремизов Дмитрий Владимирович"
   ]
  },
  {
   "cell_type": "code",
   "execution_count": 2,
   "metadata": {},
   "outputs": [],
   "source": [
    "from math import factorial"
   ]
  },
  {
   "cell_type": "code",
   "execution_count": 3,
   "metadata": {},
   "outputs": [],
   "source": [
    "def c(n, k):\n",
    "    return int(factorial(n) / (factorial(k) * factorial(n - k)))"
   ]
  },
  {
   "cell_type": "markdown",
   "metadata": {
    "colab_type": "text",
    "id": "Rc3tqLLnsFIw"
   },
   "source": [
    "**1.** Из колоды в 52 карты извлекаются случайным образом 4 карты. \n",
    "a) Найти вероятность того, что все карты – крести. \n",
    "б) Найти вероятность, что среди 4-х карт окажется хотя бы один туз.\n"
   ]
  },
  {
   "cell_type": "markdown",
   "metadata": {},
   "source": [
    "а) Вычислим общее число исходов - извлечение 4 карт\n",
    "\n",
    "$C_{52}^4 = \\frac{52!}{4!(52 - 4)!} = \\frac{52!}{4! \\cdot 48!} $"
   ]
  },
  {
   "cell_type": "markdown",
   "metadata": {},
   "source": [
    "Благоприятные исходы\n",
    "\n",
    "$C_{13}^4 = \\frac{13!}{4!(13 - 4)!} = \\frac{13!}{4! \\cdot 9!} $"
   ]
  },
  {
   "cell_type": "markdown",
   "metadata": {},
   "source": [
    "Искомая вероятность вероятность отношение благоприятных исходов к общему числу\n"
   ]
  },
  {
   "cell_type": "code",
   "execution_count": 22,
   "metadata": {},
   "outputs": [
    {
     "name": "stdout",
     "output_type": "stream",
     "text": [
      "искомая вероятность 2.641e-03\n"
     ]
    }
   ],
   "source": [
    "P=c(13,4)/c(52,4)\n",
    "print(f'искомая вероятность {P:.3e}')"
   ]
  },
  {
   "cell_type": "markdown",
   "metadata": {},
   "source": [
    "б) Вычислим общее число исходов - извлечение 4 карт\n",
    "\n",
    "$C_{52}^4 = \\frac{52!}{4!(52 - 4)!} = \\frac{52!}{4! \\cdot 48!} $"
   ]
  },
  {
   "cell_type": "markdown",
   "metadata": {},
   "source": [
    "Количество исходов события: среди 4 карт нет ни одного туза\n",
    "$C_{4}^0 \\cdot C_{48}^4 $"
   ]
  },
  {
   "cell_type": "markdown",
   "metadata": {},
   "source": [
    "Требуемую вероятность найдем через противоположное событие"
   ]
  },
  {
   "cell_type": "code",
   "execution_count": 14,
   "metadata": {},
   "outputs": [
    {
     "name": "stdout",
     "output_type": "stream",
     "text": [
      "искомая вероятность 2.813e-01\n"
     ]
    }
   ],
   "source": [
    "P=1-c(4,0)*c(48,4)/c(52,4)\n",
    "print(f'искомая вероятность {P:.3e}')"
   ]
  },
  {
   "cell_type": "markdown",
   "metadata": {
    "colab_type": "text",
    "id": "FC9PxSnisFIx"
   },
   "source": [
    "**2.**На входной двери подъезда установлен кодовый замок, содержащий десять кнопок с цифрами от 0 до 9. Код содержит три цифры, которые нужно нажать одновременно. Какова вероятность того, что человек, не знающий код, откроет дверь с первой попытки?\n"
   ]
  },
  {
   "cell_type": "markdown",
   "metadata": {},
   "source": [
    "Вычислим общее число исходов - общее выбор 3 цифр из 10 порядок значения не имеет, так как цифры нажимают одновременно.\n",
    "\n",
    "$C_{10}^3 = \\frac{10!}{3!(10 - 3)!} = \\frac{10!}{3! \\cdot 7!} $"
   ]
  },
  {
   "cell_type": "markdown",
   "metadata": {},
   "source": [
    "Благоприятных исходов только 1\n"
   ]
  },
  {
   "cell_type": "code",
   "execution_count": 28,
   "metadata": {},
   "outputs": [
    {
     "name": "stdout",
     "output_type": "stream",
     "text": [
      "искомая вероятность 8.333e-03\n"
     ]
    }
   ],
   "source": [
    "P=1/c(10,3)\n",
    "print(f'искомая вероятность {P:.3e}')"
   ]
  },
  {
   "cell_type": "markdown",
   "metadata": {
    "colab_type": "text",
    "id": "tkBVPAfesFIz"
   },
   "source": [
    "**3.** В ящике имеется 15 деталей, из которых 9 окрашены. Рабочий случайным образом извлекает 3 детали. Какова вероятность того, что все извлеченные детали окрашены?\n"
   ]
  },
  {
   "cell_type": "markdown",
   "metadata": {},
   "source": [
    "Вычислим общее число исходов - общее выбор 3 деталей из 24 порядок значения не имеет\n",
    "\n",
    "$C_{24}^3 = \\frac{24!}{3!(24 - 3)!} = \\frac{24!}{3! \\cdot 19!} $"
   ]
  },
  {
   "cell_type": "markdown",
   "metadata": {},
   "source": [
    "Благоприятные исходы\n",
    "\n",
    "$C_{9}^3 = \\frac{9!}{3!(9 - 3)!} = \\frac{9!}{3! \\cdot 6!} $"
   ]
  },
  {
   "cell_type": "code",
   "execution_count": 27,
   "metadata": {},
   "outputs": [
    {
     "name": "stdout",
     "output_type": "stream",
     "text": [
      "искомая вероятность 4.150e-02\n"
     ]
    }
   ],
   "source": [
    "P=c(9,3)/c(24,3)\n",
    "print(f'искомая вероятность {P:.3e}')"
   ]
  },
  {
   "cell_type": "markdown",
   "metadata": {},
   "source": [
    "**4.** В лотерее 100 билетов. Из них 2 выигрышных. Какова вероятность того, что 2 приобретенных билета окажутся выигрышными?\n"
   ]
  },
  {
   "cell_type": "markdown",
   "metadata": {},
   "source": [
    "Вычислим общее число исходов - выбор 2 билетов из 100, порядок значения не имеет\n",
    "\n",
    "$C_{100}^2 = \\frac{100!}{2!(100 - 2)!} = \\frac{100!}{2! \\cdot 98!} $"
   ]
  },
  {
   "cell_type": "markdown",
   "metadata": {},
   "source": [
    "Благоприятные исходы\n",
    "$C_{2}^2 = \\frac{2!}{2!(2 - 2)!} = \\frac{2!}{2! \\cdot 0!}=1 $"
   ]
  },
  {
   "cell_type": "code",
   "execution_count": 17,
   "metadata": {},
   "outputs": [
    {
     "name": "stdout",
     "output_type": "stream",
     "text": [
      "искомая вероятность 2.020e-04\n"
     ]
    }
   ],
   "source": [
    "P=c(2,2)/c(100,2)\n",
    "print(f'искомая вероятность {P:.3e}')"
   ]
  },
  {
   "cell_type": "code",
   "execution_count": null,
   "metadata": {},
   "outputs": [],
   "source": []
  }
 ],
 "metadata": {
  "colab": {
   "name": "Copy of Матстат - Урок 1.ipynb",
   "provenance": [],
   "version": "0.3.2"
  },
  "kernelspec": {
   "display_name": "Python 3",
   "language": "python",
   "name": "python3"
  },
  "language_info": {
   "codemirror_mode": {
    "name": "ipython",
    "version": 3
   },
   "file_extension": ".py",
   "mimetype": "text/x-python",
   "name": "python",
   "nbconvert_exporter": "python",
   "pygments_lexer": "ipython3",
   "version": "3.6.8"
  }
 },
 "nbformat": 4,
 "nbformat_minor": 1
}
