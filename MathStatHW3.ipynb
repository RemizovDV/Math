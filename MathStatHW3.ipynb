{
 "cells": [
  {
   "cell_type": "markdown",
   "metadata": {
    "colab_type": "text",
    "id": "G2wMw7vtsFIu"
   },
   "source": [
    "### Ремизов Дмитрий Владимирович"
   ]
  },
  {
   "cell_type": "code",
   "execution_count": 66,
   "metadata": {},
   "outputs": [],
   "source": [
    "from math import factorial\n",
    "import numpy as np"
   ]
  },
  {
   "cell_type": "code",
   "execution_count": 67,
   "metadata": {},
   "outputs": [],
   "source": [
    "def c(n, k):\n",
    "    return int(factorial(n) / (factorial(k) * factorial(n - k)))"
   ]
  },
  {
   "cell_type": "code",
   "execution_count": 68,
   "metadata": {},
   "outputs": [],
   "source": [
    "def Bernul(p,n,k):\n",
    "    return c(n,k)*(p**k)*((1-p)**(n-k))"
   ]
  },
  {
   "cell_type": "code",
   "execution_count": 69,
   "metadata": {},
   "outputs": [],
   "source": [
    "def Puasson(lambda_,m):\n",
    "    return (lambda_**m / np.math.factorial(m)) * np.exp(-lambda_)"
   ]
  },
  {
   "cell_type": "markdown",
   "metadata": {
    "colab_type": "text",
    "id": "Rc3tqLLnsFIw"
   },
   "source": [
    "**1.** Даны значения зарплат из выборки выпускников: 100, 80, 75, 77, 89, 33, 45, 25, 65, 17, 30, 24, 57, 55, 70, 75, 65, 84, 90, 150. Посчитать (желательно без использования статистических методов наподобие std, var, mean) среднее арифметическое, среднее квадратичное отклонение, смещенную и несмещенную оценки дисперсий для данной выборки.\n"
   ]
  },
  {
   "cell_type": "markdown",
   "metadata": {},
   "source": [
    "$$M(X) = \\frac{1}{n} \\sum\\limits_{i=1}^{n} x_i$$"
   ]
  },
  {
   "cell_type": "code",
   "execution_count": 70,
   "metadata": {},
   "outputs": [
    {
     "name": "stdout",
     "output_type": "stream",
     "text": [
      "среднее арифметическое 65.3\n"
     ]
    }
   ],
   "source": [
    "x=np.array([100, 80, 75, 77, 89, 33, 45, 25, 65, 17, 30, 24, 57, 55, 70, 75, 65, 84, 90, 150])\n",
    "MeanX=np.sum(x)/np.size(x)\n",
    "print(f'среднее арифметическое {MeanX:.4}')\n"
   ]
  },
  {
   "cell_type": "code",
   "execution_count": 71,
   "metadata": {},
   "outputs": [
    {
     "data": {
      "text/plain": [
       "65.3"
      ]
     },
     "execution_count": 71,
     "metadata": {},
     "output_type": "execute_result"
    }
   ],
   "source": [
    "x.mean()"
   ]
  },
  {
   "cell_type": "markdown",
   "metadata": {},
   "source": [
    "$$\\sigma^2 = \\frac{\\sum\\limits_{i=1}^{n} (x_i - \\overline{x})^2}{n}$$"
   ]
  },
  {
   "cell_type": "code",
   "execution_count": 72,
   "metadata": {},
   "outputs": [
    {
     "name": "stdout",
     "output_type": "stream",
     "text": [
      "смещенная оценка дисперсии 950.1\n"
     ]
    }
   ],
   "source": [
    "varianceX=np.sum((x-MeanX)**2)/np.size(x)\n",
    "print(f'смещенная оценка дисперсии {varianceX:.4}')"
   ]
  },
  {
   "cell_type": "code",
   "execution_count": 73,
   "metadata": {},
   "outputs": [
    {
     "data": {
      "text/plain": [
       "950.11"
      ]
     },
     "execution_count": 73,
     "metadata": {},
     "output_type": "execute_result"
    }
   ],
   "source": [
    "np.var(x,ddof=0)"
   ]
  },
  {
   "cell_type": "markdown",
   "metadata": {},
   "source": [
    "$$\\sigma^2_{несмещ.} = \\frac{\\sum\\limits_{i=1}^{n} (x_i - \\overline{x})^2}{n - 1}$$"
   ]
  },
  {
   "cell_type": "code",
   "execution_count": 74,
   "metadata": {},
   "outputs": [
    {
     "name": "stdout",
     "output_type": "stream",
     "text": [
      "несмещенная оценка дисперсии 1000.1158\n"
     ]
    }
   ],
   "source": [
    "varianceX1=np.sum((x-MeanX)**2)/(np.size(x)-1)\n",
    "print(f'несмещенная оценка дисперсии {varianceX1:.8}')"
   ]
  },
  {
   "cell_type": "code",
   "execution_count": 75,
   "metadata": {},
   "outputs": [
    {
     "data": {
      "text/plain": [
       "1000.1157894736842"
      ]
     },
     "execution_count": 75,
     "metadata": {},
     "output_type": "execute_result"
    }
   ],
   "source": [
    "np.var(x,ddof=1)"
   ]
  },
  {
   "cell_type": "markdown",
   "metadata": {},
   "source": [
    "$$\\sigma = \\sqrt{\\frac{\\sum\\limits_{i=1}^{n} (x_i - \\overline{x})^2}{n}}$$"
   ]
  },
  {
   "cell_type": "code",
   "execution_count": 76,
   "metadata": {},
   "outputs": [
    {
     "name": "stdout",
     "output_type": "stream",
     "text": [
      "среднее квадратичное отклонение 30.8239\n"
     ]
    }
   ],
   "source": [
    "stdX=np.sqrt(np.sum((x-MeanX)**2)/np.size(x))\n",
    "print(f'среднее квадратичное отклонение {stdX:.6}')"
   ]
  },
  {
   "cell_type": "code",
   "execution_count": 77,
   "metadata": {},
   "outputs": [
    {
     "data": {
      "text/plain": [
       "30.823854398825596"
      ]
     },
     "execution_count": 77,
     "metadata": {},
     "output_type": "execute_result"
    }
   ],
   "source": [
    "np.std(x,ddof=0)"
   ]
  },
  {
   "cell_type": "markdown",
   "metadata": {
    "colab_type": "text",
    "id": "FC9PxSnisFIx"
   },
   "source": [
    "**2.**В первом ящике находится 8 мячей, из которых 5 - белые. Во втором ящике - 12 мячей, из которых 5 белых. Из первого ящика вытаскивают случайным образом два мяча, из второго - 4. Какова вероятность того, что 3 мяча белые?\n"
   ]
  },
  {
   "cell_type": "markdown",
   "metadata": {},
   "source": [
    "Возможные варианты  для второго события:\n",
    "\n",
    "<table border=\"3\">\n",
    "<tr><th> № </th><td>Белые 1 </td><td>ХЦветные 1 ящик</td><td>Белые 2 ящик </td><td>Хцветные 2 ящик</td></tr>\n",
    "<tr><th> 1 </th><td>2</td><td>0</td><td>1</td><td>3</td></tr>\n",
    "<tr><th> 2 </th><td>1</td><td>1</td><td>2</td><td>2</td></tr>\n",
    "<tr><th> 3 </th><td>0</td><td>2</td><td>3</td><td>1</td></tr>\n",
    "</table>"
   ]
  },
  {
   "cell_type": "code",
   "execution_count": 78,
   "metadata": {},
   "outputs": [
    {
     "data": {
      "text/plain": [
       "0.12626262626262627"
      ]
     },
     "execution_count": 78,
     "metadata": {},
     "output_type": "execute_result"
    }
   ],
   "source": [
    "p1=c(5,2)*c(3,0)/c(8,2)*c(5,1)*c(7,3)/c(12,4)\n",
    "p1"
   ]
  },
  {
   "cell_type": "code",
   "execution_count": 79,
   "metadata": {},
   "outputs": [
    {
     "data": {
      "text/plain": [
       "0.22727272727272724"
      ]
     },
     "execution_count": 79,
     "metadata": {},
     "output_type": "execute_result"
    }
   ],
   "source": [
    "p2=c(5,1)*c(3,1)/c(8,2)*c(5,2)*c(7,2)/c(12,4)\n",
    "p2"
   ]
  },
  {
   "cell_type": "code",
   "execution_count": 80,
   "metadata": {},
   "outputs": [
    {
     "data": {
      "text/plain": [
       "0.015151515151515152"
      ]
     },
     "execution_count": 80,
     "metadata": {},
     "output_type": "execute_result"
    }
   ],
   "source": [
    "p3=c(5,0)*c(3,2)/c(8,2)*c(5,3)*c(7,1)/c(12,4)\n",
    "p3"
   ]
  },
  {
   "cell_type": "code",
   "execution_count": 81,
   "metadata": {},
   "outputs": [
    {
     "name": "stdout",
     "output_type": "stream",
     "text": [
      "искомая вероятность 0.3687\n"
     ]
    }
   ],
   "source": [
    "P=p1+p2+p3\n",
    "print(f'искомая вероятность {P:.4}')"
   ]
  },
  {
   "cell_type": "markdown",
   "metadata": {},
   "source": [
    "**3.** На соревновании по биатлону один из трех спортсменов стреляет и попадает в мишень. Вероятность попадания для первого спортсмена равна 0.9, для второго — 0.8, для третьего — 0.6. Найти вероятность того, что выстрел произведен: a). первым спортсменом б). вторым спортсменом в). третьим спортсменом."
   ]
  },
  {
   "cell_type": "markdown",
   "metadata": {},
   "source": [
    "$$P(H_i\\:|\\:A) = \\frac{P(H_i) \\cdot P(A\\:|\\:H_i)}{P(A)}$$"
   ]
  },
  {
   "cell_type": "markdown",
   "metadata": {},
   "source": [
    "Событием  𝐴  будем считать попадание в мишень, а гипотезами  H1, H2  и  H3  — что выстрел совершил первый, второй или третий спортсмен:"
   ]
  },
  {
   "cell_type": "markdown",
   "metadata": {},
   "source": [
    "$$P(A\\:|\\:H_1) = 0.9$$\n",
    "\n",
    "$$P(A\\:|\\:H_2) = 0.8$$\n",
    "\n",
    "$$P(A\\:|\\:H_3) = 0.6$$"
   ]
  },
  {
   "cell_type": "markdown",
   "metadata": {},
   "source": [
    "Вероятность наступления гипотез \n",
    "$$P(H_1) = 1/3$$\n",
    "$$P(H_2) = 1/3$$\n",
    "$$P(H_3) = 1/3$$\n"
   ]
  },
  {
   "cell_type": "markdown",
   "metadata": {},
   "source": [
    "$$P(A) = P(H_1) \\cdot P(A\\:|\\:H_1) + P(H_2) \\cdot P(A\\:|\\:H_2) \\; + ... + \\; P(H_n) \\cdot P(A\\:|\\:H_n)$$"
   ]
  },
  {
   "cell_type": "code",
   "execution_count": 82,
   "metadata": {},
   "outputs": [
    {
     "data": {
      "text/plain": [
       "0.7666666666666667"
      ]
     },
     "execution_count": 82,
     "metadata": {},
     "output_type": "execute_result"
    }
   ],
   "source": [
    "PA=1/3*(0.9+0.8+0.6)\n",
    "PA"
   ]
  },
  {
   "cell_type": "code",
   "execution_count": 83,
   "metadata": {},
   "outputs": [
    {
     "name": "stdout",
     "output_type": "stream",
     "text": [
      "вероятность того, что выстрел произведен: a). первым спортсменом 0.3913\n"
     ]
    }
   ],
   "source": [
    "PH1A=1/3*0.9/PA\n",
    "print(f'вероятность того, что выстрел произведен: a). первым спортсменом {PH1A:.5}')"
   ]
  },
  {
   "cell_type": "code",
   "execution_count": 84,
   "metadata": {},
   "outputs": [
    {
     "name": "stdout",
     "output_type": "stream",
     "text": [
      "вероятность того, что выстрел произведен: б). вторым спортсменом 0.34783\n"
     ]
    }
   ],
   "source": [
    "PH2A=1/3*0.8/PA\n",
    "print(f'вероятность того, что выстрел произведен: б). вторым спортсменом {PH2A:.5}')"
   ]
  },
  {
   "cell_type": "code",
   "execution_count": 85,
   "metadata": {},
   "outputs": [
    {
     "name": "stdout",
     "output_type": "stream",
     "text": [
      "вероятность того, что выстрел произведен: в). третьим спортсменом 0.26087\n"
     ]
    }
   ],
   "source": [
    "PH3A=1/3*0.6/PA\n",
    "print(f'вероятность того, что выстрел произведен: в). третьим спортсменом {PH3A:.5}')"
   ]
  },
  {
   "cell_type": "code",
   "execution_count": 86,
   "metadata": {},
   "outputs": [
    {
     "data": {
      "text/plain": [
       "0.9999999999999999"
      ]
     },
     "execution_count": 86,
     "metadata": {},
     "output_type": "execute_result"
    }
   ],
   "source": [
    "PH1A+PH2A+PH3A"
   ]
  },
  {
   "cell_type": "markdown",
   "metadata": {
    "colab_type": "text",
    "id": "tkBVPAfesFIz"
   },
   "source": [
    "**4.** В университет на факультеты A и B поступило равное количество студентов, а на факультет C студентов поступило столько же, сколько на A и B вместе. Вероятность того, что студент факультета A сдаст первую сессию, равна 0.8. Для студента факультета B эта вероятность равна 0.7, а для студента факультета C - 0.9. Студент сдал первую сессию. Какова вероятность, что он учится: a). на факультете A б). на факультете B в). на факультете C?\n"
   ]
  },
  {
   "cell_type": "markdown",
   "metadata": {},
   "source": [
    "Событием  𝐴  будем считать студент сдал сессию, а гипотезами  H1, H2  и  H3  — что студент учится на факультете A, B, C:"
   ]
  },
  {
   "cell_type": "markdown",
   "metadata": {},
   "source": [
    "$$P(A\\:|\\:H_1) = 0.25$$\n",
    "\n",
    "$$P(A\\:|\\:H_2) = 0.25$$\n",
    "\n",
    "$$P(A\\:|\\:H_3) = 0.5$$"
   ]
  },
  {
   "cell_type": "markdown",
   "metadata": {},
   "source": [
    "$$P(A) = P(H_1) \\cdot P(A\\:|\\:H_1) + P(H_2) \\cdot P(A\\:|\\:H_2) \\; + ... + \\; P(H_n) \\cdot P(A\\:|\\:H_n)$$"
   ]
  },
  {
   "cell_type": "code",
   "execution_count": 87,
   "metadata": {},
   "outputs": [
    {
     "data": {
      "text/plain": [
       "0.825"
      ]
     },
     "execution_count": 87,
     "metadata": {},
     "output_type": "execute_result"
    }
   ],
   "source": [
    "PA=0.25*(0.8+0.7)+0.5*0.9\n",
    "PA"
   ]
  },
  {
   "cell_type": "code",
   "execution_count": 88,
   "metadata": {},
   "outputs": [
    {
     "name": "stdout",
     "output_type": "stream",
     "text": [
      "вероятность того, что студент учится: a). на факультете A 0.24242\n"
     ]
    }
   ],
   "source": [
    "PH1A=0.25*0.8/PA\n",
    "print(f'вероятность того, что студент учится: a). на факультете A {PH1A:.5}')"
   ]
  },
  {
   "cell_type": "code",
   "execution_count": 89,
   "metadata": {},
   "outputs": [
    {
     "name": "stdout",
     "output_type": "stream",
     "text": [
      "вероятность того, что студент учится: б). на факультете B 0.21212\n"
     ]
    }
   ],
   "source": [
    "PH2A=0.25*0.7/PA\n",
    "print(f'вероятность того, что студент учится: б). на факультете B {PH2A:.5}')"
   ]
  },
  {
   "cell_type": "code",
   "execution_count": 90,
   "metadata": {},
   "outputs": [
    {
     "name": "stdout",
     "output_type": "stream",
     "text": [
      "вероятность того, что студент учится: в). на факультете C 0.54545\n"
     ]
    }
   ],
   "source": [
    "PH3A=0.5*0.9/PA\n",
    "print(f'вероятность того, что студент учится: в). на факультете C {PH3A:.5}')"
   ]
  },
  {
   "cell_type": "code",
   "execution_count": 91,
   "metadata": {},
   "outputs": [
    {
     "data": {
      "text/plain": [
       "1.0"
      ]
     },
     "execution_count": 91,
     "metadata": {},
     "output_type": "execute_result"
    }
   ],
   "source": [
    "PH1A+PH2A+PH3A"
   ]
  },
  {
   "cell_type": "markdown",
   "metadata": {},
   "source": [
    "**5.** Устройство состоит из трех деталей. Для первой детали вероятность выйти из строя в первый месяц равна 0.1, для второй - 0.2, для третьей - 0.25. Какова вероятность того, что в первый месяц выйдут из строя: а). все детали б). только две детали в). хотя бы одна деталь г). от одной до двух деталей"
   ]
  },
  {
   "cell_type": "markdown",
   "metadata": {},
   "source": [
    "Вероятность безотказной работы 1 детали обозначим как p1, вероятность отказа q1, для остальных аналогично"
   ]
  },
  {
   "cell_type": "code",
   "execution_count": 92,
   "metadata": {},
   "outputs": [
    {
     "name": "stdout",
     "output_type": "stream",
     "text": [
      "вероятность того, что в первый месяц выйдут из строя: а). все детали 0.005\n",
      "вероятность того, что в первый месяц выйдут из строя: б). только две детали 0.08\n",
      "вероятность того, что в первый месяц выйдут из строя: в). хотя бы одна деталь 0.46\n",
      "вероятность того, что в первый месяц выйдут из строя: г). от одной до двух деталей 0.455\n"
     ]
    }
   ],
   "source": [
    "q1=0.1\n",
    "p1=1-q1\n",
    "q2=0.2\n",
    "p2=1-q2\n",
    "q3=0.25\n",
    "p3=1-q3\n",
    "\n",
    "P=q1*q2*q3\n",
    "print(f'вероятность того, что в первый месяц выйдут из строя: а). все детали {P:.5}')\n",
    "P=q1*q2*p3+q1*q3*p2+q2*q3*p1\n",
    "print(f'вероятность того, что в первый месяц выйдут из строя: б). только две детали {P:.5}')\n",
    "P=1-p1*p2*p3\n",
    "print(f'вероятность того, что в первый месяц выйдут из строя: в). хотя бы одна деталь {P:.5}')\n",
    "P=1-p1*p2*p3-q1*q2*q3\n",
    "print(f'вероятность того, что в первый месяц выйдут из строя: г). от одной до двух деталей {P:.5}')"
   ]
  },
  {
   "cell_type": "code",
   "execution_count": null,
   "metadata": {},
   "outputs": [],
   "source": []
  }
 ],
 "metadata": {
  "colab": {
   "name": "Copy of Матстат - Урок 1.ipynb",
   "provenance": [],
   "version": "0.3.2"
  },
  "kernelspec": {
   "display_name": "Python 3",
   "language": "python",
   "name": "python3"
  },
  "language_info": {
   "codemirror_mode": {
    "name": "ipython",
    "version": 3
   },
   "file_extension": ".py",
   "mimetype": "text/x-python",
   "name": "python",
   "nbconvert_exporter": "python",
   "pygments_lexer": "ipython3",
   "version": "3.6.8"
  }
 },
 "nbformat": 4,
 "nbformat_minor": 1
}
